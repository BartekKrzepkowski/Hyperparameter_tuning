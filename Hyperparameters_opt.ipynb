{
 "cells": [
  {
   "cell_type": "markdown",
   "metadata": {},
   "source": [
    "#### worth notice\n",
    "https://medium.com/@mikkokotila/a-comprehensive-list-of-hyperparameter-optimization-tuning-solutions-88e067f19d9"
   ]
  },
  {
   "cell_type": "code",
   "execution_count": 10,
   "metadata": {},
   "outputs": [],
   "source": [
    "%load_ext autoreload\n",
    "%autoreload 2"
   ]
  },
  {
   "cell_type": "code",
   "execution_count": 11,
   "metadata": {},
   "outputs": [],
   "source": [
    "import os\n",
    "import pandas as pd\n",
    "from sklearn.svm import SVR\n",
    "from sklearn.metrics import mean_absolute_error, mean_squared_error"
   ]
  },
  {
   "cell_type": "code",
   "execution_count": 12,
   "metadata": {},
   "outputs": [],
   "source": [
    "from utils import get_data, R2_1, round_params"
   ]
  },
  {
   "cell_type": "code",
   "execution_count": 13,
   "metadata": {},
   "outputs": [],
   "source": [
    "import warnings\n",
    "from sklearn.exceptions import DataConversionWarning\n",
    "warnings.filterwarnings(action='ignore', category=DataConversionWarning)"
   ]
  },
  {
   "cell_type": "markdown",
   "metadata": {},
   "source": [
    "# Get data"
   ]
  },
  {
   "cell_type": "code",
   "execution_count": 14,
   "metadata": {},
   "outputs": [],
   "source": [
    "DATA_PATH = \"data\"\n",
    "train = pd.read_csv(os.path.join(DATA_PATH, 'trainingData.csv'))\n",
    "valid = pd.read_csv(os.path.join(DATA_PATH, 'validationData.csv'))"
   ]
  },
  {
   "cell_type": "code",
   "execution_count": 15,
   "metadata": {},
   "outputs": [],
   "source": [
    "target = \"winRate\"\n",
    "col_names = [\"nofGames\", \"nOfPlayers\", \"winRate\"]\n",
    "train, valid = get_data(train, valid)"
   ]
  },
  {
   "cell_type": "code",
   "execution_count": 16,
   "metadata": {},
   "outputs": [],
   "source": [
    "x_train = train.drop(col_names, axis=1).values\n",
    "y_train = train[target].values\n",
    "\n",
    "x_val = valid.drop(col_names, axis=1).values\n",
    "y_val = valid[target].values"
   ]
  },
  {
   "cell_type": "code",
   "execution_count": null,
   "metadata": {},
   "outputs": [],
   "source": []
  },
  {
   "cell_type": "markdown",
   "metadata": {},
   "source": [
    "# Hyperopt"
   ]
  },
  {
   "cell_type": "code",
   "execution_count": null,
   "metadata": {},
   "outputs": [],
   "source": [
    "# in case of need\n",
    "! pip install hyperopt"
   ]
  },
  {
   "cell_type": "code",
   "execution_count": null,
   "metadata": {},
   "outputs": [],
   "source": [
    "from hyperopt import fmin, tpe, hp, Trials, STATUS_OK\n",
    "from hyperopt.pyll import stochastic"
   ]
  },
  {
   "cell_type": "code",
   "execution_count": null,
   "metadata": {},
   "outputs": [],
   "source": [
    "def svm_objective(params):\n",
    "  \n",
    "    hp_params_svm = {**params, **base_params}\n",
    "    svr_regressor = SVR(**params)    \n",
    "    svr_regressor.fit(x_train[: CUTOFF], y_train[: CUTOFF])\n",
    "\n",
    "    pred = svr_regressor.predict(x_val)\n",
    "    mse = mean_squared_error(y_val, pred)\n",
    "\n",
    "    return{'loss': mse, 'status': STATUS_OK }"
   ]
  },
  {
   "cell_type": "code",
   "execution_count": null,
   "metadata": {},
   "outputs": [],
   "source": [
    "hp_params = {\n",
    "    \"gamma\": hp.uniform(\"gamma\", 10**-3, 10**1),\n",
    "    \"epsilon\": hp.uniform(\"epsilon\", 10**-3, 10**0),\n",
    "    \"C\": hp.uniform(\"C\", 10**0, 10**3)   \n",
    "}\n",
    "# example -> operationalization of stochastic expression\n",
    "stochastic.sample(hp_params)"
   ]
  },
  {
   "cell_type": "code",
   "execution_count": null,
   "metadata": {},
   "outputs": [],
   "source": [
    "trials = Trials()\n",
    "best = fmin(\n",
    "    fn = svm_objective,\n",
    "    space = hp_params,\n",
    "    algo = tpe.suggest,\n",
    "    max_evals = 100,\n",
    "    trials = trials\n",
    ")\n",
    "# random seed ?"
   ]
  },
  {
   "cell_type": "code",
   "execution_count": null,
   "metadata": {},
   "outputs": [],
   "source": [
    "best = round_params(best)\n",
    "best_params_hyperopt = {**best, **base_params}\n",
    "best_params_hyperopt[\"verbose\"] = 1\n",
    "best_params_hyperopt"
   ]
  },
  {
   "cell_type": "code",
   "execution_count": null,
   "metadata": {},
   "outputs": [],
   "source": [
    "hyperopt_results = pd.DataFrame({'loss': [x['loss'] for x in trials.results], 'iteration': np.arange(len(trials.results)),\n",
    "                            **trials.idxs_vals[1]})\n",
    "hyperopt_results.plot(kind=\"line\", x=\"iteration\", y=param_name, layout=(1,3),\n",
    "                 subplots = True, sharex = False, marker=\"o\", ls=\"none\", figsize=(25, 5));\n",
    "hyperopt_results.plot(kind=\"kde\", y=param_name, layout=(1,3),\n",
    "                 subplots = True, sharex = False, figsize=(25, 5));"
   ]
  },
  {
   "cell_type": "markdown",
   "metadata": {},
   "source": [
    "#### Hyperopt summary"
   ]
  },
  {
   "cell_type": "code",
   "execution_count": null,
   "metadata": {},
   "outputs": [],
   "source": [
    "svr_regressor = SVR(**best_params_hyperopt)    \n",
    "svr_regressor.fit(x_train[: CUTOFF], y_train[: CUTOFF])\n",
    "svr_regressor.score(x_val, y_val)"
   ]
  },
  {
   "cell_type": "code",
   "execution_count": null,
   "metadata": {},
   "outputs": [],
   "source": [
    "pred = svr_regressor.predict(x_val)\n",
    "mean_squared_error(y_val, pred)"
   ]
  },
  {
   "cell_type": "code",
   "execution_count": null,
   "metadata": {},
   "outputs": [],
   "source": [
    "R2_1(y_val, pred)"
   ]
  },
  {
   "cell_type": "markdown",
   "metadata": {},
   "source": [
    "# Hyperopt - sklearn"
   ]
  },
  {
   "cell_type": "code",
   "execution_count": null,
   "metadata": {},
   "outputs": [],
   "source": [
    "# in case of need\n",
    "! git clone git@github.com:hyperopt/hyperopt-sklearn.git & (cd hyperopt-sklearn && pip install -e .)"
   ]
  },
  {
   "cell_type": "code",
   "execution_count": null,
   "metadata": {},
   "outputs": [],
   "source": [
    "from hpsklearn import HyperoptEstimator, svr_rbf\n",
    "from hyperopt import tpe"
   ]
  },
  {
   "cell_type": "code",
   "execution_count": null,
   "metadata": {},
   "outputs": [],
   "source": [
    "# sprawdz inne algorytmy optymalizacji bo jak na razie z samym tpe.suggest cieniutko\n",
    "estim = HyperoptEstimator(\n",
    "    regressor=svr_rbf('my_clf', shrinking=False),\n",
    "    algo=tpe.suggest,\n",
    "    max_evals=100,\n",
    "    trial_timeout=300,\n",
    "    loss_fn = mean_squared_error\n",
    ")"
   ]
  },
  {
   "cell_type": "code",
   "execution_count": null,
   "metadata": {},
   "outputs": [],
   "source": [
    "estim.fit(x_train[: CUTOFF], y_train[: CUTOFF])\n",
    "estim.score(x_val, y_val)"
   ]
  },
  {
   "cell_type": "code",
   "execution_count": null,
   "metadata": {},
   "outputs": [],
   "source": [
    "best_params_hyperopt_sk = estim.trials.argmin\n",
    "val_params = [best_params_hyperopt_sk['my_clf.rbf_C'], best_params_hyperopt_sk['my_clf.rbf_epsilon'], best_params_hyperopt_sk['my_clf.rbf_gamma']]\n",
    "val_params"
   ]
  },
  {
   "cell_type": "code",
   "execution_count": null,
   "metadata": {},
   "outputs": [],
   "source": [
    "best_params_hyperopt_sk = upgrade_params(base_params, value_base_params=val_params, verbose=1)\n",
    "best_params_hyperopt_sk"
   ]
  },
  {
   "cell_type": "code",
   "execution_count": null,
   "metadata": {},
   "outputs": [],
   "source": [
    "svr_regressor = SVR(**best_params_skopt)    \n",
    "svr_regressor.fit(x_train[: CUTOFF], y_train[: CUTOFF])\n",
    "svr_regressor.score(x_val, y_val)"
   ]
  },
  {
   "cell_type": "markdown",
   "metadata": {},
   "source": [
    "# hypopt"
   ]
  },
  {
   "cell_type": "code",
   "execution_count": null,
   "metadata": {},
   "outputs": [],
   "source": [
    "# in case of need\n",
    "! pip install hypopt"
   ]
  },
  {
   "cell_type": "code",
   "execution_count": null,
   "metadata": {},
   "outputs": [],
   "source": [
    "hp_params = {\n",
    "    \"gamma\": hp.uniform(\"gamma\", 0.01, 10),\n",
    "    \"epsilon\": hp.uniform(\"epsilon\", 0.005, 1),\n",
    "    \"C\": hp.uniform(\"C\", 1, 100)   \n",
    "}\n",
    "hp_params_svm = {**hp_params, **base_params}\n",
    "def svm_objective(params):\n",
    "\n",
    "    svr_regressor = SVR(**params)    \n",
    "    svr_regressor.fit(x_train[: CUTOFF], y_train[: CUTOFF])\n",
    "\n",
    "\n",
    "    pred = svr_regressor.predict(x_val)\n",
    "    mse = mean_squared_error(y_val, pred)\n",
    "    mae = mean_absolute_error(y_val, pred)\n",
    "    r2 = R2_1(y_val, pred)\n",
    "    svr_score = svr_regressor.score(x_val, y_val)\n",
    "    print(\"mse: {:.6f}, mae: {:.6f}, r2: {:.6f}, svr_score(r2): {:.6f} \\n\".format(mse, mae, r2, svr_score))\n",
    "\n",
    "    return{'loss': mse, 'status': STATUS_OK }\n",
    "\n",
    "stochastic.sample(hp_params_svm)"
   ]
  },
  {
   "cell_type": "markdown",
   "metadata": {},
   "source": [
    "# SKOPT"
   ]
  },
  {
   "cell_type": "code",
   "execution_count": null,
   "metadata": {},
   "outputs": [],
   "source": [
    "from skopt import gp_minimize, forest_minimize, gbrt_minimize\n",
    "from skopt.space import Real, Integer\n",
    "from skopt.utils import use_named_args"
   ]
  },
  {
   "cell_type": "code",
   "execution_count": null,
   "metadata": {},
   "outputs": [],
   "source": [
    "def upgrade_params(base_params, value_base_params, verbose=1):\n",
    "    best_params = round_params(dict(zip(param_name, value_base_params)))\n",
    "    best_params = {**base_params, **best_params}\n",
    "    best_params[\"verbose\"] = verbose\n",
    "    return best_params\n",
    "\n",
    "def show_optimization_process():\n",
    "    pass"
   ]
  },
  {
   "cell_type": "code",
   "execution_count": null,
   "metadata": {},
   "outputs": [],
   "source": [
    "space  = [\n",
    "    Real(10**-2, 10**1, \"uniform\", name='gamma'),\n",
    "    Real(10**-3, 10**0, \"uniform\", name='epsilon'),\n",
    "    Real(10**0, 10**2, \"uniform\", name='C')\n",
    "]"
   ]
  },
  {
   "cell_type": "code",
   "execution_count": null,
   "metadata": {},
   "outputs": [],
   "source": [
    "CUTOFF = 1000\n",
    "base_params = {\n",
    "    \"kernel\": \"rbf\",\n",
    "    \"shrinking\": False\n",
    "}\n",
    "@use_named_args(space)\n",
    "def svm_objective(**params):\n",
    "    params = {**params, **base_params}\n",
    "    svr_regressor = SVR(**params)    \n",
    "    svr_regressor.fit(x_train[: CUTOFF], y_train[: CUTOFF])\n",
    "    pred = svr_regressor.predict(x_val)\n",
    "    return mean_squared_error(y_val, pred)\n"
   ]
  },
  {
   "cell_type": "markdown",
   "metadata": {},
   "source": [
    "## Gaussian Process"
   ]
  },
  {
   "cell_type": "code",
   "execution_count": null,
   "metadata": {},
   "outputs": [],
   "source": [
    "res_gp = gp_minimize(\n",
    "    func=svm_objective,\n",
    "    dimensions=space,\n",
    "    acq_func=\"EI\",\n",
    "    n_calls=100,\n",
    "    n_jobs=4,\n",
    "    random_state=42\n",
    ")\n",
    "res_gp.fun"
   ]
  },
  {
   "cell_type": "code",
   "execution_count": null,
   "metadata": {},
   "outputs": [],
   "source": [
    "best_params_skopt = upgrade_params(base_params, value_base_params=res_gp.x, verbose=1)\n",
    "best_params_skopt"
   ]
  },
  {
   "cell_type": "code",
   "execution_count": null,
   "metadata": {},
   "outputs": [],
   "source": [
    "skopt_results = pd.DataFrame(data=res_gp.x_iters, columns=param_name)\n",
    "skopt_results[\"iteration\"] = np.arange(skopt_results.shape[0])\n",
    "skopt_results.plot(kind=\"line\", x=\"iteration\", y=param_name, layout=(1,3),\n",
    "                 subplots = True, sharex = False, marker=\"o\", ls=\"none\", figsize=(25, 5));\n",
    "skopt_results.plot(kind=\"kde\", y=param_name, layout=(1,3),\n",
    "                 subplots = True, sharex = False, figsize=(25, 5));"
   ]
  },
  {
   "cell_type": "markdown",
   "metadata": {},
   "source": [
    "#### Skopt summary"
   ]
  },
  {
   "cell_type": "code",
   "execution_count": null,
   "metadata": {},
   "outputs": [],
   "source": [
    "svr_regressor = SVR(**best_params_skopt)    \n",
    "svr_regressor.fit(x_train[: CUTOFF], y_train[: CUTOFF])\n",
    "svr_regressor.score(x_val, y_val)"
   ]
  },
  {
   "cell_type": "code",
   "execution_count": null,
   "metadata": {},
   "outputs": [],
   "source": [
    "pred = svr_regressor.predict(x_val)\n",
    "R2_1(y_val, pred)"
   ]
  },
  {
   "cell_type": "markdown",
   "metadata": {},
   "source": [
    "### GBR Trees Optimizer"
   ]
  },
  {
   "cell_type": "code",
   "execution_count": null,
   "metadata": {},
   "outputs": [],
   "source": [
    "res_gbr = gbrt_minimize(\n",
    "    func=svm_objective,\n",
    "    dimensions=space,\n",
    "    acq_func=\"EI\",\n",
    "    n_calls=100,\n",
    "    n_jobs=4,\n",
    "    random_state=42\n",
    ")\n",
    "res_gbr.fun"
   ]
  },
  {
   "cell_type": "code",
   "execution_count": null,
   "metadata": {},
   "outputs": [],
   "source": [
    "best_params_skopt = dict(zip(param_name, res_gbr.x))\n",
    "best_params_skopt = round_params(best_params_skopt)\n",
    "best_params_skopt = {**base_params, **best_params_skopt}\n",
    "best_params_skopt[\"verbose\"] = 1\n",
    "best_params_skopt"
   ]
  },
  {
   "cell_type": "code",
   "execution_count": null,
   "metadata": {},
   "outputs": [],
   "source": [
    "svr_regressor = SVR(**best_params_skopt)    \n",
    "svr_regressor.fit(x_train[: CUTOFF], y_train[: CUTOFF])\n",
    "svr_regressor.score(x_val, y_val)"
   ]
  },
  {
   "cell_type": "code",
   "execution_count": null,
   "metadata": {},
   "outputs": [],
   "source": [
    "pred = svr_regressor.predict(x_val)\n",
    "R2_1(y_val, pred)"
   ]
  },
  {
   "cell_type": "markdown",
   "metadata": {},
   "source": [
    "### Tree-Based Optimizer"
   ]
  },
  {
   "cell_type": "code",
   "execution_count": null,
   "metadata": {},
   "outputs": [],
   "source": [
    "res_forest = forest_minimize(\n",
    "    func=svm_objective,\n",
    "    dimensions=space,\n",
    "    acq_func=\"EI\",\n",
    "    n_calls=100,\n",
    "    n_jobs=4,\n",
    "    random_state=42\n",
    ")\n",
    "res_forest.fun"
   ]
  },
  {
   "cell_type": "code",
   "execution_count": null,
   "metadata": {},
   "outputs": [],
   "source": [
    "best_params_skopt = dict(zip(param_name, res_forest.x))\n",
    "best_params_skopt = round_params(best_params_skopt)\n",
    "best_params_skopt = {**base_params, **best_params_skopt}\n",
    "best_params_skopt[\"verbose\"] = 1\n",
    "best_params_skopt"
   ]
  },
  {
   "cell_type": "code",
   "execution_count": null,
   "metadata": {},
   "outputs": [],
   "source": [
    "svr_regressor = SVR(**best_params_skopt)    \n",
    "svr_regressor.fit(x_train[: CUTOFF], y_train[: CUTOFF])\n",
    "svr_regressor.score(x_val, y_val)"
   ]
  },
  {
   "cell_type": "code",
   "execution_count": null,
   "metadata": {},
   "outputs": [],
   "source": [
    "pred = svr_regressor.predict(x_val)\n",
    "R2_1(y_val, pred)"
   ]
  },
  {
   "cell_type": "markdown",
   "metadata": {},
   "source": [
    "## Bayes search"
   ]
  },
  {
   "cell_type": "code",
   "execution_count": null,
   "metadata": {},
   "outputs": [],
   "source": [
    "# in case of need\n",
    "!pip install bayesian-optimization"
   ]
  },
  {
   "cell_type": "code",
   "execution_count": null,
   "metadata": {},
   "outputs": [],
   "source": [
    "from skopt import BayesSearchCV"
   ]
  },
  {
   "cell_type": "code",
   "execution_count": null,
   "metadata": {},
   "outputs": [],
   "source": [
    "opt = BayesSearchCV(\n",
    "    estimator=SVR(kernel=\"rbf\", shrinking=False),\n",
    "    search_spaces={\n",
    "        'C': (10**0, 10**2, 'uniform'),  \n",
    "        'gamma': (10**-3, 10**0, 'uniform'),\n",
    "        'epsilon': (10**-2, 10**1, 'uniform')\n",
    "    },\n",
    "    n_iter=100,\n",
    "    n_jobs=4,\n",
    "    cv=4,\n",
    "    random_state=42\n",
    ")\n",
    "\n",
    "opt.fit(x_train[: CUTOFF], y_train[: CUTOFF])\n",
    "opt.score(x_val, y_val)"
   ]
  },
  {
   "cell_type": "code",
   "execution_count": null,
   "metadata": {},
   "outputs": [],
   "source": [
    "pred = opt.predict(x_val)\n",
    "mean_squared_error(y_val, pred)"
   ]
  },
  {
   "cell_type": "code",
   "execution_count": null,
   "metadata": {},
   "outputs": [],
   "source": [
    "R2_1(y_val, pred)"
   ]
  },
  {
   "cell_type": "markdown",
   "metadata": {},
   "source": [
    "# BayesianOptimization "
   ]
  },
  {
   "cell_type": "code",
   "execution_count": null,
   "metadata": {},
   "outputs": [],
   "source": [
    "# in case of need\n",
    "! pip install bayesian-optimization"
   ]
  },
  {
   "cell_type": "code",
   "execution_count": 22,
   "metadata": {},
   "outputs": [],
   "source": [
    "from bayes_opt import BayesianOptimization\n",
    "from sklearn.svm import SVR\n",
    "\n",
    "def svr_funct(C, gamma, epsilon):\n",
    "    svr_regressor = SVR(kernel=\"rbf\", shrinking=False, C=C, gamma=gamma, epsilon=epsilon)    \n",
    "    svr_regressor.fit(x_train[: CUTOFF], y_train[: CUTOFF])\n",
    "    pred = svr_regressor.predict(x_val)\n",
    "    return - mean_squared_error(y_val, pred)\n",
    "\n",
    "\n",
    "# Bounded region of parameter space\n",
    "pbounds = {\n",
    "    'C': (10**0, 10**3),  \n",
    "    'gamma': (10**-3, 10**1),\n",
    "    'epsilon': (10**-3, 10**0)\n",
    "}\n",
    "\n",
    "optimizer = BayesianOptimization(\n",
    "    f=svr_funct,\n",
    "    pbounds=pbounds,\n",
    "    random_state=42\n",
    ")"
   ]
  },
  {
   "cell_type": "code",
   "execution_count": 23,
   "metadata": {},
   "outputs": [
    {
     "name": "stdout",
     "output_type": "stream",
     "text": [
      "|   iter    |  target   |     C     |  epsilon  |   gamma   |\n",
      "-------------------------------------------------------------\n",
      "| \u001b[0m 1       \u001b[0m | \u001b[0m-0.05512 \u001b[0m | \u001b[0m 375.2   \u001b[0m | \u001b[0m 0.9508  \u001b[0m | \u001b[0m 7.32    \u001b[0m |\n",
      "| \u001b[95m 2       \u001b[0m | \u001b[95m-0.02096 \u001b[0m | \u001b[95m 599.1   \u001b[0m | \u001b[95m 0.1569  \u001b[0m | \u001b[95m 1.561   \u001b[0m |\n",
      "| \u001b[0m 3       \u001b[0m | \u001b[0m-0.05512 \u001b[0m | \u001b[0m 59.03   \u001b[0m | \u001b[0m 0.8663  \u001b[0m | \u001b[0m 6.012   \u001b[0m |\n",
      "| \u001b[95m 4       \u001b[0m | \u001b[95m-0.002402\u001b[0m | \u001b[95m 708.4   \u001b[0m | \u001b[95m 0.02156 \u001b[0m | \u001b[95m 9.699   \u001b[0m |\n",
      "| \u001b[0m 5       \u001b[0m | \u001b[0m-0.03808 \u001b[0m | \u001b[0m 832.6   \u001b[0m | \u001b[0m 0.2131  \u001b[0m | \u001b[0m 1.819   \u001b[0m |\n",
      "| \u001b[0m 6       \u001b[0m | \u001b[0m-0.05512 \u001b[0m | \u001b[0m 647.9   \u001b[0m | \u001b[0m 1.0     \u001b[0m | \u001b[0m 10.0    \u001b[0m |\n",
      "| \u001b[95m 7       \u001b[0m | \u001b[95m-0.002162\u001b[0m | \u001b[95m 1e+03   \u001b[0m | \u001b[95m 0.001   \u001b[0m | \u001b[95m 0.001   \u001b[0m |\n",
      "| \u001b[95m 8       \u001b[0m | \u001b[95m-0.0021  \u001b[0m | \u001b[95m 202.2   \u001b[0m | \u001b[95m 0.001   \u001b[0m | \u001b[95m 0.001   \u001b[0m |\n",
      "| \u001b[95m 9       \u001b[0m | \u001b[95m-0.001994\u001b[0m | \u001b[95m 1.0     \u001b[0m | \u001b[95m 0.001   \u001b[0m | \u001b[95m 0.001   \u001b[0m |\n",
      "| \u001b[0m 10      \u001b[0m | \u001b[0m-0.002109\u001b[0m | \u001b[0m 487.5   \u001b[0m | \u001b[0m 0.001   \u001b[0m | \u001b[0m 0.001   \u001b[0m |\n",
      "| \u001b[0m 11      \u001b[0m | \u001b[0m-0.05512 \u001b[0m | \u001b[0m 737.7   \u001b[0m | \u001b[0m 1.0     \u001b[0m | \u001b[0m 0.001   \u001b[0m |\n",
      "| \u001b[0m 12      \u001b[0m | \u001b[0m-0.002205\u001b[0m | \u001b[0m 929.5   \u001b[0m | \u001b[0m 0.001   \u001b[0m | \u001b[0m 10.0    \u001b[0m |\n",
      "| \u001b[0m 13      \u001b[0m | \u001b[0m-0.002205\u001b[0m | \u001b[0m 274.6   \u001b[0m | \u001b[0m 0.001   \u001b[0m | \u001b[0m 10.0    \u001b[0m |\n",
      "| \u001b[0m 14      \u001b[0m | \u001b[0m-0.002205\u001b[0m | \u001b[0m 541.2   \u001b[0m | \u001b[0m 0.001   \u001b[0m | \u001b[0m 10.0    \u001b[0m |\n",
      "| \u001b[0m 15      \u001b[0m | \u001b[0m-0.002205\u001b[0m | \u001b[0m 1e+03   \u001b[0m | \u001b[0m 0.001   \u001b[0m | \u001b[0m 10.0    \u001b[0m |\n",
      "| \u001b[0m 16      \u001b[0m | \u001b[0m-0.002097\u001b[0m | \u001b[0m 299.7   \u001b[0m | \u001b[0m 0.001   \u001b[0m | \u001b[0m 0.001   \u001b[0m |\n",
      "| \u001b[0m 17      \u001b[0m | \u001b[0m-0.05512 \u001b[0m | \u001b[0m 1.0     \u001b[0m | \u001b[0m 1.0     \u001b[0m | \u001b[0m 10.0    \u001b[0m |\n",
      "| \u001b[0m 18      \u001b[0m | \u001b[0m-0.002095\u001b[0m | \u001b[0m 135.3   \u001b[0m | \u001b[0m 0.001   \u001b[0m | \u001b[0m 0.001   \u001b[0m |\n",
      "| \u001b[0m 19      \u001b[0m | \u001b[0m-0.002205\u001b[0m | \u001b[0m 778.7   \u001b[0m | \u001b[0m 0.001   \u001b[0m | \u001b[0m 10.0    \u001b[0m |\n",
      "| \u001b[0m 20      \u001b[0m | \u001b[0m-0.03841 \u001b[0m | \u001b[0m 873.9   \u001b[0m | \u001b[0m 0.2142  \u001b[0m | \u001b[0m 9.994   \u001b[0m |\n",
      "| \u001b[0m 21      \u001b[0m | \u001b[0m-0.05512 \u001b[0m | \u001b[0m 539.7   \u001b[0m | \u001b[0m 0.2971  \u001b[0m | \u001b[0m 0.01709 \u001b[0m |\n",
      "| \u001b[0m 22      \u001b[0m | \u001b[0m-0.002205\u001b[0m | \u001b[0m 447.3   \u001b[0m | \u001b[0m 0.001   \u001b[0m | \u001b[0m 10.0    \u001b[0m |\n",
      "| \u001b[0m 23      \u001b[0m | \u001b[0m-0.05512 \u001b[0m | \u001b[0m 252.6   \u001b[0m | \u001b[0m 0.7461  \u001b[0m | \u001b[0m 0.006464\u001b[0m |\n",
      "| \u001b[0m 24      \u001b[0m | \u001b[0m-0.002238\u001b[0m | \u001b[0m 172.7   \u001b[0m | \u001b[0m 0.007491\u001b[0m | \u001b[0m 9.987   \u001b[0m |\n",
      "| \u001b[0m 25      \u001b[0m | \u001b[0m-0.002205\u001b[0m | \u001b[0m 322.6   \u001b[0m | \u001b[0m 0.001   \u001b[0m | \u001b[0m 10.0    \u001b[0m |\n",
      "| \u001b[0m 26      \u001b[0m | \u001b[0m-0.05512 \u001b[0m | \u001b[0m 967.1   \u001b[0m | \u001b[0m 0.9269  \u001b[0m | \u001b[0m 0.1289  \u001b[0m |\n",
      "| \u001b[0m 27      \u001b[0m | \u001b[0m-0.002205\u001b[0m | \u001b[0m 492.0   \u001b[0m | \u001b[0m 0.001   \u001b[0m | \u001b[0m 10.0    \u001b[0m |\n",
      "| \u001b[0m 28      \u001b[0m | \u001b[0m-0.05512 \u001b[0m | \u001b[0m 584.2   \u001b[0m | \u001b[0m 0.3185  \u001b[0m | \u001b[0m 9.996   \u001b[0m |\n",
      "| \u001b[0m 29      \u001b[0m | \u001b[0m-0.00214 \u001b[0m | \u001b[0m 682.4   \u001b[0m | \u001b[0m 0.001   \u001b[0m | \u001b[0m 0.001   \u001b[0m |\n",
      "| \u001b[0m 30      \u001b[0m | \u001b[0m-0.002104\u001b[0m | \u001b[0m 423.1   \u001b[0m | \u001b[0m 0.001   \u001b[0m | \u001b[0m 0.001   \u001b[0m |\n",
      "=============================================================\n"
     ]
    }
   ],
   "source": [
    "optimizer.maximize()"
   ]
  },
  {
   "cell_type": "code",
   "execution_count": null,
   "metadata": {},
   "outputs": [],
   "source": []
  }
 ],
 "metadata": {
  "kernelspec": {
   "display_name": "Python 3",
   "language": "python",
   "name": "python3"
  },
  "language_info": {
   "codemirror_mode": {
    "name": "ipython",
    "version": 3
   },
   "file_extension": ".py",
   "mimetype": "text/x-python",
   "name": "python",
   "nbconvert_exporter": "python",
   "pygments_lexer": "ipython3",
   "version": "3.6.7"
  }
 },
 "nbformat": 4,
 "nbformat_minor": 2
}
